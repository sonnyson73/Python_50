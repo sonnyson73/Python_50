{
 "cells": [
  {
   "cell_type": "code",
   "execution_count": null,
   "metadata": {},
   "outputs": [],
   "source": []
  },
  {
   "cell_type": "code",
   "execution_count": 13,
   "metadata": {},
   "outputs": [
    {
     "data": {
      "text/plain": [
       "'samehmetrı'"
      ]
     },
     "execution_count": 13,
     "metadata": {},
     "output_type": "execute_result"
    }
   ],
   "source": [
    "# Soru 2\n",
    "\n",
    "s1[:len(s1)//2] + s2 + s1[len(s1)//2:]"
   ]
  },
  {
   "cell_type": "code",
   "execution_count": 17,
   "metadata": {},
   "outputs": [
    {
     "name": "stdout",
     "output_type": "stream",
     "text": [
      "empty string\n"
     ]
    }
   ],
   "source": [
    "# Soru 3\n",
    "\n",
    "liste = input(\"Enter a word:\")\n",
    "if len(liste) >= 3:\n",
    "    print(liste[:3] + liste[-3:])\n",
    "else:\n",
    "    print(\"empty string\")"
   ]
  },
  {
   "cell_type": "code",
   "execution_count": 2,
   "metadata": {},
   "outputs": [
    {
     "name": "stdout",
     "output_type": "stream",
     "text": [
      "Mr.Bean appears 2 times.\n"
     ]
    }
   ],
   "source": [
    "# Soru 4\n",
    "\n",
    "str_x = \"Mr.Bean is an actor and Mr.Bean is very funny.\"\n",
    "c = str_x.count(\"Mr.Bean\")\n",
    "print(f\"Mr.Bean appears {c} times.\")"
   ]
  },
  {
   "cell_type": "code",
   "execution_count": 6,
   "metadata": {},
   "outputs": [
    {
     "name": "stdout",
     "output_type": "stream",
     "text": [
      "name: a\n",
      "age : 3\n",
      "job :gd\n"
     ]
    }
   ],
   "source": [
    "# Soru 5\n",
    "\n",
    "Name = input(\"Enter your name:\")\n",
    "Age = int(input(\"Enter your age:\"))\n",
    "Job = input(\"Enter your job:\")\n",
    "print(\"name: {}\\nage : {}\\njob : {}\".format(Name,Age,Job))"
   ]
  },
  {
   "cell_type": "code",
   "execution_count": 12,
   "metadata": {},
   "outputs": [
    {
     "name": "stdout",
     "output_type": "stream",
     "text": [
      "5500.0\n"
     ]
    }
   ],
   "source": [
    "# Soru 6\n",
    "\n",
    "wage = int(input(\"Enter the wage:\"))\n",
    "hours_w = int(input(\"Enter the total hours per week:\"))\n",
    "if hours_w <= 40:\n",
    "    salary = wage * hours_w\n",
    "else:\n",
    "    salary = (wage * 40 + (hours_w - 40) * 1.5 * wage)\n",
    "print(salary)"
   ]
  },
  {
   "cell_type": "code",
   "execution_count": 14,
   "metadata": {},
   "outputs": [
    {
     "name": "stdout",
     "output_type": "stream",
     "text": [
      "5500\n"
     ]
    }
   ],
   "source": [
    "# Soru 6\n",
    "\n",
    "wage = int(input(\"Enter the wage:\"))\n",
    "hours_w = int(input(\"Enter the total hours per week:\"))\n",
    "if hours_w <= 40:\n",
    "    salary = wage * hours_w\n",
    "else:\n",
    "    salary = wage * (1.5 * hours_w - 20)\n",
    "print(salary)"
   ]
  },
  {
   "cell_type": "code",
   "execution_count": 7,
   "metadata": {},
   "outputs": [
    {
     "name": "stdout",
     "output_type": "stream",
     "text": [
      "False\n"
     ]
    }
   ],
   "source": [
    "# Question_7 : Create an algorithm that returns True \n",
    "# if the two integer values you get from user are equal\n",
    "# or the difference of these numbers is a multiple of 5.\n",
    "\n",
    "a = int(input(\"Enter the first interger number:\"))\n",
    "b = int(input(\"Enter the second interger number:\"))\n",
    "\n",
    "if a == b or (a - b) % 5 == 0:\n",
    "    print(True)\n",
    "else:\n",
    "    print(False)\n",
    "\n",
    "\n",
    "# Alternate code:\n",
    "# print(a == b or (a - b) % 5 == 0:)"
   ]
  },
  {
   "cell_type": "code",
   "execution_count": 24,
   "metadata": {},
   "outputs": [
    {
     "name": "stdout",
     "output_type": "stream",
     "text": [
      "5\n"
     ]
    }
   ],
   "source": [
    "#Question_8: İf the two objets received from the user are integers, \n",
    "# write a Python code to sum of both. \n",
    "\n",
    "a = input(\"Enter the first number:\")\n",
    "b = input(\"Enter the first number:\")\n",
    "          \n",
    "if a.isnumeric() and b.isnumeric():\n",
    "    print(int(a) + int(b))\n",
    "elif a.isalpha() and b.isalpha():\n",
    "    print(f\"Both {a} and {b} are not integer\")\n",
    "elif a.isalpha() and b.isnumeric():\n",
    "    print(f\"{a} is not integer\")\n",
    "else:\n",
    "    print(f\"{b} is not integer\")"
   ]
  },
  {
   "cell_type": "code",
   "execution_count": 26,
   "metadata": {},
   "outputs": [
    {
     "name": "stdout",
     "output_type": "stream",
     "text": [
      "Turkey is the 0.52% of the total world's landmass.\n"
     ]
    }
   ],
   "source": [
    "# Question_9: \n",
    "\n",
    "name_coutry = (input(\"Enter the country:\"))\n",
    "country_landmass = int(input(\"Enter her area:\"))\n",
    "\n",
    "world_landmass = 148940000\n",
    "\n",
    "print(f\"{name_coutry} is the {(country_landmass * 100 / world_landmass):.2f}% of the total world's landmass.\")"
   ]
  },
  {
   "cell_type": "code",
   "execution_count": 1,
   "metadata": {},
   "outputs": [
    {
     "name": "stdout",
     "output_type": "stream",
     "text": [
      "Vücut Kitle İndeksiniz: 26.67    İdeal kilonun üstündesiniz\n",
      "Kaynak:https://www.acibadem.com.tr/ilgi-alani/vucut-kitle-indeksi-hesaplama/\n"
     ]
    }
   ],
   "source": [
    "# Question_10: Create an algorith that finds BMI\n",
    "\n",
    "weight = float(input(\"Enter your weight (kg)\"))\n",
    "height = float(input(\"Enter your height (metre)\"))\n",
    "bmi = weight / height ** 2\n",
    "if bmi < 18.5:\n",
    "    print(\"Your BMI: {:.2f}    You are underweight\".format(bmi))\n",
    "elif 18.5 <= bmi < 24.9:\n",
    "    print(\"Your BMI: {:.2f}    You are normal\".format(bmi))\n",
    "elif 25.0 <= bmi < 29.9:\n",
    "    print(\"Your BMI: {:.2f}    You are overweight\".format(bmi))\n",
    "elif 30.0 <= bmi < 39.9:\n",
    "    print(\"Your BMI: {:.2f}    You are obese\".format(bmi))\n",
    "elif 40.0 <= bmi:\n",
    "    print(\"Your BMI: {:.2f}    You are extremely obese\".format(bmi))\n",
    "print(\"Kaynak:https://www.acibadem.com.tr/ilgi-alani/vucut-kitle-indeksi-hesaplama/\")"
   ]
  },
  {
   "cell_type": "code",
   "execution_count": 6,
   "metadata": {},
   "outputs": [
    {
     "name": "stdout",
     "output_type": "stream",
     "text": [
      "Temperature: 113.0°F\n"
     ]
    }
   ],
   "source": [
    "# Question_10_Annex: Conversion of Celsius to Farhenheit\n",
    "\n",
    "Celsius_T = float(input(\"Enter temperature (°C):\"))\n",
    "Farhenheit_T = (9 / 5) * Celsius_T + 32\n",
    "print(f\"Temperature: {Farhenheit_T:.1f} °F\")"
   ]
  },
  {
   "cell_type": "code",
   "execution_count": 32,
   "metadata": {},
   "outputs": [
    {
     "name": "stdout",
     "output_type": "stream",
     "text": [
      "1112223344\n"
     ]
    }
   ],
   "source": [
    "# Question_11: Write python code that extracts the phone number in a givern string expression\n",
    "\n",
    "given_str = \"My phone number is (111) 222-33-44\"\n",
    "Phone_number = \"\"\n",
    "for i in given_str:\n",
    "    if i.isnumeric():\n",
    "        Phone_number += i\n",
    "      \n",
    "print(Phone_number)\n"
   ]
  },
  {
   "cell_type": "code",
   "execution_count": 47,
   "metadata": {},
   "outputs": [
    {
     "name": "stdout",
     "output_type": "stream",
     "text": [
      "Wrong entry! Plese enter your grade between 0 and 100\n",
      "Your Letter Grade: A    99\n"
     ]
    }
   ],
   "source": [
    "# Question_12: Conversion of exam grade tof Your letter grade\n",
    "\n",
    "# 80 - 100  A\n",
    "# 65 - 79   B\n",
    "# 55 - 64   C\n",
    "# 50 - 54   D\n",
    "#  0 - 49   F\n",
    "\n",
    "while True:\n",
    "    Grade = int(input(\"Enter your grade between 0 and 100:\"))    \n",
    "    if -1 <Grade <100:\n",
    "        if 80 <= Grade <= 100:\n",
    "            print(f\"Your Letter Grade: A    {Grade}\")\n",
    "        elif 80 <= Grade <= 100:\n",
    "            print(f\"Your Letter Grade: B    {Grade}\")\n",
    "        elif 80 <= Grade <= 100:\n",
    "            print(f\"Your Letter Grade: C    {Grade}\")\n",
    "        elif 80 <= Grade <= 100:\n",
    "            print(f\"Your Letter Grade: D    {Grade}\")\n",
    "        else:\n",
    "            print(f\"Your Letter Grade: F    {Grade}\")\n",
    "        break\n",
    "    else:\n",
    "        print(\"Wrong entry! Plese enter your grade between 0 and 100\")\n",
    "    "
   ]
  },
  {
   "cell_type": "code",
   "execution_count": 9,
   "metadata": {},
   "outputs": [
    {
     "name": "stdout",
     "output_type": "stream",
     "text": [
      "['Işlk542', 'iŞlk542', 'işLk542', 'işlK542', 'işlk542', 'işlk542', 'işlk542']\n"
     ]
    }
   ],
   "source": [
    "# Question_13:\n",
    "\n",
    "x = input(\"Enter a word:\").lower()\n",
    "list_1 = []\n",
    "for i in range(len(x)):\n",
    "    if \"i\".isalpha():        \n",
    "        list_1.append(x[:i] + x[i].upper() + x[i+1:])\n",
    "print(list_1)\n",
    "\n"
   ]
  },
  {
   "cell_type": "code",
   "execution_count": 9,
   "metadata": {},
   "outputs": [
    {
     "data": {
      "text/plain": [
       "{0: 'a', 1: 'd', 2: 'e', 3: 'm'}"
      ]
     },
     "execution_count": 9,
     "metadata": {},
     "output_type": "execute_result"
    }
   ],
   "source": [
    "# Question_14:\n",
    "\n",
    "word = input(\"Enter your word\")\n",
    "output = dict(enumerate(word))\n",
    "output\n"
   ]
  },
  {
   "cell_type": "code",
   "execution_count": 14,
   "metadata": {},
   "outputs": [
    {
     "name": "stdout",
     "output_type": "stream",
     "text": [
      "1 x 6 = 6\n",
      "2 x 6 = 12\n",
      "3 x 6 = 18\n",
      "4 x 6 = 24\n",
      "5 x 6 = 30\n",
      "6 x 6 = 36\n",
      "7 x 6 = 42\n",
      "8 x 6 = 48\n",
      "9 x 6 = 54\n",
      "10 x 6 = 60\n"
     ]
    }
   ],
   "source": [
    "# Question_15:\n",
    "\n",
    "a = int(input(\"Enter a number between 1 and 10\"))\n",
    "for i in range(1,11):\n",
    "    print(f\"{i} x {a} = {i * a}\")"
   ]
  },
  {
   "cell_type": "code",
   "execution_count": 1,
   "metadata": {},
   "outputs": [
    {
     "name": "stdout",
     "output_type": "stream",
     "text": [
      "738\n"
     ]
    }
   ],
   "source": [
    "# Question_16:\n",
    "\n",
    "a = input(\"Enter a number between 1 and 10\")\n",
    "try:\n",
    "    a = int(a) + int(a + a) + int(a + a + a)\n",
    "    print(a)\n",
    "except:\n",
    "    print(\"Wrong entry\")"
   ]
  },
  {
   "cell_type": "code",
   "execution_count": 32,
   "metadata": {},
   "outputs": [
    {
     "name": "stdout",
     "output_type": "stream",
     "text": [
      "ger?erli?el?it\n"
     ]
    }
   ],
   "source": [
    "# Question_17:\n",
    "\n",
    "word = input(\"Enter your word\")\n",
    "word_new = \"\"\n",
    "word_new_2 = \"\"\n",
    "for i in word:\n",
    "    if word[0] == i:\n",
    "        word_new = word.replace(i,\"?\")\n",
    "        word_new_2 = word_new.replace(\"?\",word[0],1)\n",
    "print(word_new_2)"
   ]
  },
  {
   "cell_type": "code",
   "execution_count": 2,
   "metadata": {},
   "outputs": [
    {
     "name": "stdout",
     "output_type": "stream",
     "text": [
      "Even numbers [2, 4, 6, 8, 10, 12, 14, 16, 18, 20, 22, 24, 26, 28, 30, 32, 34, 36, 38, 40, 42, 44, 46, 48, 50] \n",
      "Odd numbers [1, 3, 5, 7, 9, 11, 13, 15, 17, 19, 21, 23, 25, 27, 29, 31, 33, 35, 37, 39, 41, 43, 45, 47, 49]\n"
     ]
    }
   ],
   "source": [
    "# Question_18:\n",
    "\n",
    "even_num = []\n",
    "odd_num = []\n",
    "\n",
    "for i in range(1,51):\n",
    "    if i % 2 == 0:\n",
    "        even_num.append(i)\n",
    "    else:\n",
    "        odd_num.append(i)\n",
    "print(f\"Even numbers {even_num} \\nOdd numbers {odd_num}\")"
   ]
  },
  {
   "cell_type": "code",
   "execution_count": 9,
   "metadata": {},
   "outputs": [
    {
     "name": "stdout",
     "output_type": "stream",
     "text": [
      " evens: [2, 4, 6, 8, 10, 12, 14, 16, 18, 20, 22, 24, 26, 28, 30, 32, 34, 36, 38, 40, 42, 44, 46, 48, 50]\n",
      " odds: [1, 3, 5, 7, 9, 11, 13, 15, 17, 19, 21, 23, 25, 27, 29, 31, 33, 35, 37, 39, 41, 43, 45, 47, 49]\n"
     ]
    }
   ],
   "source": [
    "print(f\" evens: {[ i for i in range(1,51) if i % 2 == 0 ]}\")\n",
    "print(f\" odds: {[ i for i in range(1,51) if i % 2 != 0 ]}\")"
   ]
  },
  {
   "cell_type": "code",
   "execution_count": 12,
   "metadata": {},
   "outputs": [
    {
     "name": "stdout",
     "output_type": "stream",
     "text": [
      "entries are equal\n",
      "[]\n"
     ]
    }
   ],
   "source": [
    "# Question_19:\n",
    "x = []\n",
    "first_num = int(input(\"Enter first number\"))\n",
    "second_num = int(input(\"Enter second number\"))\n",
    "if first_num > second_num:\n",
    "    for i in range(first_num,(second_num - 1),-1):\n",
    "        x.append(i)\n",
    "elif first_num < second_num:\n",
    "    for i in range(first_num,(second_num + 1)):\n",
    "        x.append(i)\n",
    "else:\n",
    "    print(\"entries are equal\")    \n",
    "print(x)"
   ]
  },
  {
   "cell_type": "code",
   "execution_count": 17,
   "metadata": {},
   "outputs": [
    {
     "name": "stdout",
     "output_type": "stream",
     "text": [
      "old. years 29 I'm and Emirhan is Myname\n"
     ]
    }
   ],
   "source": [
    "# Question_20:\n",
    "\n",
    "str_1 = \"Myname is Emirhan and I'm 29 years old.\"\n",
    "\n",
    "print(*list(str_1.split())[::-1])"
   ]
  },
  {
   "cell_type": "code",
   "execution_count": 22,
   "metadata": {},
   "outputs": [
    {
     "name": "stdout",
     "output_type": "stream",
     "text": [
      "Difference of squares 50\n"
     ]
    }
   ],
   "source": [
    "# Question_21:\n",
    "\n",
    "r = int(input(\"Enter radius\"))\n",
    "print(f\"Difference of squares {2 * r ** 2}\")"
   ]
  },
  {
   "cell_type": "code",
   "execution_count": 25,
   "metadata": {},
   "outputs": [
    {
     "name": "stdout",
     "output_type": "stream",
     "text": [
      "[1, 2, 'big', 4, 5, 'big', 'bang', 8, 'big', 10, 11, 'big', 13, 'bang', 'big', 16, 17, 'big', 19, 20, 'bigbang', 22, 23, 'big', 25, 26, 'big', 'bang', 29, 'big', 31, 32, 'big', 34, 'bang', 'big', 37, 38, 'big', 40, 41, 'bigbang', 43, 44, 'big', 46, 47, 'big', 'bang', 50]\n"
     ]
    }
   ],
   "source": [
    "# Question_22:\n",
    "\n",
    "list_2 = list(range(1,51))\n",
    "list_new = []\n",
    "\n",
    "for i in list_2:\n",
    "    if i % 3 == 0 and i % 7 == 0:\n",
    "        list_new.append(\"bigbang\")\n",
    "    elif i % 3 == 0:\n",
    "        list_new.append(\"big\")\n",
    "    elif i % 7 == 0:\n",
    "        list_new.append(\"bang\")\n",
    "    else:\n",
    "        list_new.append(i)\n",
    "print(list_new)\n",
    "\n"
   ]
  },
  {
   "cell_type": "code",
   "execution_count": 56,
   "metadata": {},
   "outputs": [
    {
     "name": "stdout",
     "output_type": "stream",
     "text": [
      "Büyük ünlü uyumu aranmaz\n"
     ]
    }
   ],
   "source": [
    "# Question_23:\n",
    "\n",
    "kalin_harfler = {\"a\", \"ı\", \"o\", \"u\"}\n",
    "ince_harfler = {\"e\", \"i\", \"ö\", \"ü\"}\n",
    "isim = input(\"Enter your name:\").lower()\n",
    "isim_set = set(isim)\n",
    "if len(kalin_harfler & isim_set) == 1 or len(ince_harfler & isim_set) == 1:\n",
    "    print(\"Büyük ünlü uyumu aranmaz\")\n",
    "elif (kalin_harfler & isim_set) == set() and (ince_harfler & isim_set) == set():\n",
    "    print(\"Sesli harf yok!\")\n",
    "elif (kalin_harfler & isim_set) and (ince_harfler & isim_set) == set():\n",
    "    print(f\"{isim} büyük ünlü uyumludur.\")\n",
    "elif (kalin_harfler & isim_set) == set() and (ince_harfler & isim_set):\n",
    "    print(f\"{isim} büyük ünlü uyumludur.\")\n",
    "else:\n",
    "    print(f\"{isim} büyük ünlü uyumlu değildir.\")"
   ]
  },
  {
   "cell_type": "code",
   "execution_count": 10,
   "metadata": {},
   "outputs": [
    {
     "name": "stdout",
     "output_type": "stream",
     "text": [
      "[4, 9, 7, 3, 9, 7, 7, 3, 9, 5, 7, 7, 3, 4]\n"
     ]
    }
   ],
   "source": [
    "# Question_24:\n",
    "result = []\n",
    "num_1 = input(\"Enter an integer\")\n",
    "try:\n",
    "    for i in num_1:\n",
    "        if int(i) <= 3:\n",
    "            result.append(int(i) ** 2)\n",
    "        elif int(i) > 3 and int(i) % 2 == 1:\n",
    "            result.append(int(i) -2)\n",
    "        elif int(i) > 3 and int(i) % 2 == 0:\n",
    "            result.append(int(i) + 1)\n",
    "    print(result)\n",
    "except:\n",
    "    print(\"invalid input\")"
   ]
  },
  {
   "cell_type": "code",
   "execution_count": 14,
   "metadata": {},
   "outputs": [],
   "source": [
    "# Question_25\n",
    "\n",
    "def locker(x):\n",
    "    locker = [0 for i in range(x)]\n",
    "    for i in range(x):\n",
    "        for j in range(i,x,i+1):\n",
    "            if locker[j] == 0:\n",
    "                locker[j] = 1\n",
    "            elif locker[j] == 1:\n",
    "                locker[j] = 0\n",
    "    return locker.count(1)"
   ]
  },
  {
   "cell_type": "code",
   "execution_count": 19,
   "metadata": {},
   "outputs": [
    {
     "data": {
      "text/plain": [
       "22"
      ]
     },
     "execution_count": 19,
     "metadata": {},
     "output_type": "execute_result"
    }
   ],
   "source": [
    "locker(500)"
   ]
  },
  {
   "cell_type": "code",
   "execution_count": 21,
   "metadata": {},
   "outputs": [
    {
     "name": "stdout",
     "output_type": "stream",
     "text": [
      "22\n"
     ]
    }
   ],
   "source": [
    "# Question_25\n",
    "\n",
    "x = int(input(\"Enter a number\"))\n",
    "locker = [0 for i in range(x)]\n",
    "for i in range(x):\n",
    "    for j in range(i,x,i+1):\n",
    "        if locker[j] == 0:\n",
    "           locker[j] = 1\n",
    "        elif locker[j] == 1:\n",
    "           locker[j] = 0\n",
    "print(locker.count(1))"
   ]
  },
  {
   "cell_type": "code",
   "execution_count": 22,
   "metadata": {},
   "outputs": [],
   "source": [
    "def locker(x):\n",
    "    \n",
    "    locker = [ 0 for i in range(x) ]\n",
    "    locker[i,,i].replace(0,)"
   ]
  },
  {
   "cell_type": "code",
   "execution_count": null,
   "metadata": {},
   "outputs": [],
   "source": [
    "# 1-) Kullanıcın girdiği 5 basamaklı bir sayının,\n",
    "# basamaklarının toplamını ekrana yazdıran python kodlarını yazınız?\n",
    "While True:\n",
    "x = input(\"Lutfen bir 5 basamakli bir sayi giriniz\")\n",
    "if x.isnumeric() and len(x) == 5 :\n",
    "    x = int(x)\n",
    "    basamak_toplam = 0\n",
    "    temp = x\n",
    "    while x > 0 :\n",
    "        basamak_toplam += x%10\n",
    "        x //= 10\n",
    "    print(f\"{temp} sayisinin basamaklarinin toplami : {basamak_toplam}\")\n",
    "    print(temp, \"sayisinin basamaklarinin toplami :\", basamak_toplam)\n",
    "else :\n",
    "        print(\"Lutfen 5 basamakli bir sayi giriniz\")"
   ]
  }
 ],
 "metadata": {
  "kernelspec": {
   "display_name": "Python 3",
   "language": "python",
   "name": "python3"
  },
  "language_info": {
   "codemirror_mode": {
    "name": "ipython",
    "version": 3
   },
   "file_extension": ".py",
   "mimetype": "text/x-python",
   "name": "python",
   "nbconvert_exporter": "python",
   "pygments_lexer": "ipython3",
   "version": "3.11.1"
  },
  "orig_nbformat": 4,
  "vscode": {
   "interpreter": {
    "hash": "2781885ad9a25b75e84e9fa250fe0c60bf69963fba8c272b98ddfac2715154c7"
   }
  }
 },
 "nbformat": 4,
 "nbformat_minor": 2
}
